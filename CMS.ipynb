{
  "cells": [
    {
      "cell_type": "code",
      "execution_count": null,
      "id": "9c6da27c",
      "metadata": {
        "colab": {
          "base_uri": "https://localhost:8080/"
        },
        "id": "9c6da27c",
        "outputId": "98d4a24b-e34b-432b-a48c-ed109a11dba2"
      },
      "outputs": [
        {
          "name": "stdout",
          "output_type": "stream",
          "text": [
            "Requirement already satisfied: selenium in /Users/suprajap/Desktop/Miniconda/miniconda3/lib/python3.10/site-packages (4.14.0)\n",
            "Requirement already satisfied: certifi>=2021.10.8 in /Users/suprajap/Desktop/Miniconda/miniconda3/lib/python3.10/site-packages (from selenium) (2022.12.7)\n",
            "Requirement already satisfied: trio-websocket~=0.9 in /Users/suprajap/Desktop/Miniconda/miniconda3/lib/python3.10/site-packages (from selenium) (0.11.1)\n",
            "Requirement already satisfied: urllib3[socks]<3,>=1.26 in /Users/suprajap/Desktop/Miniconda/miniconda3/lib/python3.10/site-packages (from selenium) (1.26.13)\n",
            "Requirement already satisfied: trio~=0.17 in /Users/suprajap/Desktop/Miniconda/miniconda3/lib/python3.10/site-packages (from selenium) (0.22.2)\n",
            "Requirement already satisfied: outcome in /Users/suprajap/Desktop/Miniconda/miniconda3/lib/python3.10/site-packages (from trio~=0.17->selenium) (1.3.0)\n",
            "Requirement already satisfied: sortedcontainers in /Users/suprajap/Desktop/Miniconda/miniconda3/lib/python3.10/site-packages (from trio~=0.17->selenium) (2.4.0)\n",
            "Requirement already satisfied: attrs>=20.1.0 in /Users/suprajap/Desktop/Miniconda/miniconda3/lib/python3.10/site-packages (from trio~=0.17->selenium) (22.1.0)\n",
            "Requirement already satisfied: sniffio in /Users/suprajap/Desktop/Miniconda/miniconda3/lib/python3.10/site-packages (from trio~=0.17->selenium) (1.2.0)\n",
            "Requirement already satisfied: idna in /Users/suprajap/Desktop/Miniconda/miniconda3/lib/python3.10/site-packages (from trio~=0.17->selenium) (3.4)\n",
            "Requirement already satisfied: exceptiongroup>=1.0.0rc9 in /Users/suprajap/Desktop/Miniconda/miniconda3/lib/python3.10/site-packages (from trio~=0.17->selenium) (1.1.3)\n",
            "Requirement already satisfied: wsproto>=0.14 in /Users/suprajap/Desktop/Miniconda/miniconda3/lib/python3.10/site-packages (from trio-websocket~=0.9->selenium) (1.2.0)\n",
            "Requirement already satisfied: PySocks!=1.5.7,<2.0,>=1.5.6 in /Users/suprajap/Desktop/Miniconda/miniconda3/lib/python3.10/site-packages (from urllib3[socks]<3,>=1.26->selenium) (1.7.1)\n",
            "Requirement already satisfied: h11<1,>=0.9.0 in /Users/suprajap/Desktop/Miniconda/miniconda3/lib/python3.10/site-packages (from wsproto>=0.14->trio-websocket~=0.9->selenium) (0.14.0)\n",
            "zsh:1: command not found: apt-get\n",
            "zsh:1: command not found: apt-get\n"
          ]
        }
      ],
      "source": [
        "!pip install selenium\n",
        "#new code\n",
        "!apt-get update\n",
        "!apt-get install -y chromium-chromedriver\n"
      ]
    },
    {
      "cell_type": "code",
      "execution_count": null,
      "id": "5ba5f828",
      "metadata": {
        "colab": {
          "base_uri": "https://localhost:8080/"
        },
        "id": "5ba5f828",
        "outputId": "53ee6e0e-7857-4a1c-db20-eb696e529947"
      },
      "outputs": [
        {
          "name": "stdout",
          "output_type": "stream",
          "text": [
            "Requirement already satisfied: webdriver-manager in /Users/suprajap/Desktop/Miniconda/miniconda3/lib/python3.10/site-packages (4.0.1)\r\n",
            "Requirement already satisfied: packaging in /Users/suprajap/Desktop/Miniconda/miniconda3/lib/python3.10/site-packages (from webdriver-manager) (22.0)\r\n",
            "Requirement already satisfied: requests in /Users/suprajap/Desktop/Miniconda/miniconda3/lib/python3.10/site-packages (from webdriver-manager) (2.28.1)\r\n",
            "Requirement already satisfied: python-dotenv in /Users/suprajap/Desktop/Miniconda/miniconda3/lib/python3.10/site-packages (from webdriver-manager) (1.0.0)\r\n",
            "Requirement already satisfied: idna<4,>=2.5 in /Users/suprajap/Desktop/Miniconda/miniconda3/lib/python3.10/site-packages (from requests->webdriver-manager) (3.4)\r\n",
            "Requirement already satisfied: charset-normalizer<3,>=2 in /Users/suprajap/Desktop/Miniconda/miniconda3/lib/python3.10/site-packages (from requests->webdriver-manager) (2.0.4)\r\n",
            "Requirement already satisfied: certifi>=2017.4.17 in /Users/suprajap/Desktop/Miniconda/miniconda3/lib/python3.10/site-packages (from requests->webdriver-manager) (2022.12.7)\r\n",
            "Requirement already satisfied: urllib3<1.27,>=1.21.1 in /Users/suprajap/Desktop/Miniconda/miniconda3/lib/python3.10/site-packages (from requests->webdriver-manager) (1.26.13)\r\n"
          ]
        }
      ],
      "source": [
        "!pip install webdriver-manager"
      ]
    },
    {
      "cell_type": "code",
      "execution_count": null,
      "id": "4618495c",
      "metadata": {
        "colab": {
          "base_uri": "https://localhost:8080/"
        },
        "id": "4618495c",
        "outputId": "f4582b98-c888-40b4-8f4d-9665294c1b3e"
      },
      "outputs": [
        {
          "name": "stdout",
          "output_type": "stream",
          "text": [
            "/Users/suprajap/Desktop/RA\n"
          ]
        }
      ],
      "source": [
        "\n",
        "import os\n",
        "from selenium import webdriver\n",
        "from selenium.webdriver.chrome.service import Service\n",
        "from webdriver_manager.chrome import ChromeDriverManager\n",
        "from selenium.webdriver.support.ui import Select\n",
        "from selenium.webdriver.common.by import By\n",
        "from selenium.webdriver.support import expected_conditions as EC\n",
        "from selenium.webdriver.support.ui import WebDriverWait\n",
        "from selenium.webdriver.chrome.options import Options\n",
        "\n",
        "#new code\n",
        "from selenium import webdriver\n",
        "from selenium.webdriver.chrome.service import Service\n",
        "\n",
        "import time\n",
        "cwd = os.getcwd()\n",
        "print(cwd)"
      ]
    },
    {
      "cell_type": "code",
      "execution_count": null,
      "id": "ecff891c",
      "metadata": {
        "colab": {
          "base_uri": "https://localhost:8080/"
        },
        "id": "ecff891c",
        "outputId": "524c3c12-ba99-4adc-e291-984a8bb88cb7"
      },
      "outputs": [
        {
          "name": "stdout",
          "output_type": "stream",
          "text": [
            "Requirement already satisfied: webdriver-manager in /Users/suprajap/Desktop/Miniconda/miniconda3/lib/python3.10/site-packages (4.0.1)\n",
            "Requirement already satisfied: requests in /Users/suprajap/Desktop/Miniconda/miniconda3/lib/python3.10/site-packages (from webdriver-manager) (2.28.1)\n",
            "Requirement already satisfied: python-dotenv in /Users/suprajap/Desktop/Miniconda/miniconda3/lib/python3.10/site-packages (from webdriver-manager) (1.0.0)\n",
            "Requirement already satisfied: packaging in /Users/suprajap/Desktop/Miniconda/miniconda3/lib/python3.10/site-packages (from webdriver-manager) (22.0)\n",
            "Requirement already satisfied: urllib3<1.27,>=1.21.1 in /Users/suprajap/Desktop/Miniconda/miniconda3/lib/python3.10/site-packages (from requests->webdriver-manager) (1.26.13)\n",
            "Requirement already satisfied: charset-normalizer<3,>=2 in /Users/suprajap/Desktop/Miniconda/miniconda3/lib/python3.10/site-packages (from requests->webdriver-manager) (2.0.4)\n",
            "Requirement already satisfied: idna<4,>=2.5 in /Users/suprajap/Desktop/Miniconda/miniconda3/lib/python3.10/site-packages (from requests->webdriver-manager) (3.4)\n",
            "Requirement already satisfied: certifi>=2017.4.17 in /Users/suprajap/Desktop/Miniconda/miniconda3/lib/python3.10/site-packages (from requests->webdriver-manager) (2022.12.7)\n"
          ]
        }
      ],
      "source": [
        "!pip install webdriver-manager --upgrade"
      ]
    },
    {
      "cell_type": "code",
      "execution_count": null,
      "id": "0fba655e",
      "metadata": {
        "colab": {
          "base_uri": "https://localhost:8080/"
        },
        "id": "0fba655e",
        "outputId": "cab9e77f-71d8-44c5-f42c-2bf3d6fe0a9c"
      },
      "outputs": [
        {
          "name": "stdout",
          "output_type": "stream",
          "text": [
            "Requirement already satisfied: packaging in /Users/suprajap/Desktop/Miniconda/miniconda3/lib/python3.10/site-packages (22.0)\r\n"
          ]
        }
      ],
      "source": [
        "!pip install packaging"
      ]
    },
    {
      "cell_type": "code",
      "execution_count": null,
      "id": "e9cc7de5",
      "metadata": {
        "colab": {
          "base_uri": "https://localhost:8080/",
          "height": 402
        },
        "id": "e9cc7de5",
        "outputId": "cd02aa06-0543-4b3a-8138-1f558c5a6456"
      },
      "outputs": [
        {
          "ename": "TypeError",
          "evalue": "WebDriver.__init__() got an unexpected keyword argument 'chromeOptions'",
          "output_type": "error",
          "traceback": [
            "\u001b[0;31m---------------------------------------------------------------------------\u001b[0m",
            "\u001b[0;31mTypeError\u001b[0m                                 Traceback (most recent call last)",
            "Cell \u001b[0;32mIn[11], line 25\u001b[0m\n\u001b[1;32m     10\u001b[0m \u001b[38;5;66;03m#old code\u001b[39;00m\n\u001b[1;32m     11\u001b[0m \u001b[38;5;66;03m#1driver = webdriver.Chrome(options=chromeOptions)\u001b[39;00m\n\u001b[1;32m     12\u001b[0m \u001b[38;5;66;03m#2driver= webdriver.Chrome(executable_path=\"/content/drive/MyDrive/Colab Notebooks/RA/chromedriver/chromedriver\")\u001b[39;00m\n\u001b[0;32m   (...)\u001b[0m\n\u001b[1;32m     20\u001b[0m \u001b[38;5;66;03m#service = webdriver.ChromeService(executable_path=chromedriver_path)\u001b[39;00m\n\u001b[1;32m     21\u001b[0m \u001b[38;5;66;03m#driver = webdriver.Chrome(service=service, options=chromeOptions)\u001b[39;00m\n\u001b[1;32m     24\u001b[0m service \u001b[38;5;241m=\u001b[39m webdriver\u001b[38;5;241m.\u001b[39mChromeService(executable_path\u001b[38;5;241m=\u001b[39m\u001b[38;5;124m'\u001b[39m\u001b[38;5;124m/usr/local/bin/chromedriver.exe\u001b[39m\u001b[38;5;124m'\u001b[39m)\n\u001b[0;32m---> 25\u001b[0m driver \u001b[38;5;241m=\u001b[39m \u001b[43mwebdriver\u001b[49m\u001b[38;5;241;43m.\u001b[39;49m\u001b[43mChrome\u001b[49m\u001b[43m(\u001b[49m\u001b[43mservice\u001b[49m\u001b[38;5;241;43m=\u001b[39;49m\u001b[43mservice\u001b[49m\u001b[43m,\u001b[49m\u001b[43mchromeOptions\u001b[49m\u001b[38;5;241;43m=\u001b[39;49m\u001b[43mchromeOptions\u001b[49m\u001b[43m)\u001b[49m\n\u001b[1;32m     26\u001b[0m driver\u001b[38;5;241m.\u001b[39mget(\u001b[38;5;124m\"\u001b[39m\u001b[38;5;124mhttps://data.cms.gov/mapping-medicare-disparities\u001b[39m\u001b[38;5;124m\"\u001b[39m)\n\u001b[1;32m     28\u001b[0m \u001b[38;5;28;01mfor\u001b[39;00m y \u001b[38;5;129;01min\u001b[39;00m [\u001b[38;5;241m21\u001b[39m]: \u001b[38;5;66;03m#year 2021\u001b[39;00m\n\u001b[1;32m     29\u001b[0m \u001b[38;5;66;03m#   Added code to to switch to iframe\u001b[39;00m\n",
            "\u001b[0;31mTypeError\u001b[0m: WebDriver.__init__() got an unexpected keyword argument 'chromeOptions'"
          ]
        }
      ],
      "source": [
        "chromeOptions = Options()\n",
        "chromeOptions.add_experimental_option(\"prefs\", {\n",
        "    \"download.prompt_for_download\": False,\n",
        "    \"download.default_directory\": r\"C:\\Users\\Desktop\\RA\\scripts\",\n",
        "    \"download.directory_upgrade\": True,\n",
        "    \"safebrowsing.enabled\": True,\n",
        "    \"profile.default_content_settings.popups\": 0, # Disable the popup confirmation\n",
        "    \"profile.content_settings.exceptions.automatic_downloads.*.setting\": 1,\n",
        "})\n",
        "\n",
        "service = webdriver.ChromeService(executable_path='/usr/local/bin/chromedriver.exe')\n",
        "driver = webdriver.Chrome(service=service,chromeOptions=chromeOptions)\n",
        "driver.get(\"https://data.cms.gov/mapping-medicare-disparities\")\n",
        "\n",
        "for y in [22]:\n",
        "#   Added code to to switch to iframe\n",
        "    time.sleep(2) # time delay for the web page to load before accessing the frame\n",
        "    iframe = driver.find_element(\"xpath\",\"//iframe[@title='population']\")\n",
        "    time.sleep(2) # time delay for the web page to load before accessing the frame\n",
        "    driver.switch_to.frame(iframe)\n",
        "    time.sleep(2)\n",
        "    element_year=driver.find_element(\"id\",\"year\") #Selecting year option\n",
        "    drp_year=Select(element_year)\n",
        "    drp_year.select_by_value(str()) #Selecting year 2021\n",
        "    time.sleep(2)\n",
        "    element_adjust=driver.find_element(\"id\",\"adjust\") #Selecting adjustment option\n",
        "    drp_adjust=Select(element_adjust)\n",
        "    drp_adjust.select_by_value(str('1')) #Selecting Unsmoothed actual - 1\n",
        "    time.sleep(2)\n",
        "    element_analysis=driver.find_element(\"id\",\"analysis\") #Selecting Analysis option\n",
        "    drp_analysis=Select(element_analysis)\n",
        "    drp_analysis.select_by_value(str('base')) #Selecting base measure - base\n",
        "    time.sleep(2)\n",
        "    element_domain=driver.find_element(\"id\",\"domain\") #Selecting domain option\n",
        "    drp_domain=Select(element_domain)\n",
        "    drp_domain.select_by_value(str('d1')) #Selecting Primary chronic conditions - d1\n",
        "    time.sleep(2)\n",
        "    element_dual=driver.find_element(\"id\",\"dual\") #Selecting dual eligible option\n",
        "    drp_dual=Select(element_dual)\n",
        "    #options: null - Dual & non-dual; 0 - Medicare only; 1-Dual only\n",
        "    drp_dual.select_by_value(str('null'))  #Selecting Dual & non-dual - null\n",
        "    time.sleep(2)\n",
        "    a=0\n",
        "\n",
        "    for g in [\"c\"]:\n",
        "        element_county=driver.find_element(\"id\",\"geography\")\n",
        "        drp_geo=Select(element_county)\n",
        "        drp_geo.select_by_value(g)\n",
        "        time.sleep(2)\n",
        "        for m in [\"e\"]:  # for Average principle,total cost,ED visit rate,Hospitalization, prevalence and readmissions\n",
        "            element_measure=driver.find_element(\"id\",\"measure\")\n",
        "            drp_measure=Select(element_measure)\n",
        "            drp_measure.select_by_value(str(m))\n",
        "            time.sleep(2)\n",
        "            for c in [10]: #Alzheimer's, Depression, Diabetes, Obesity\n",
        "                element_condition=driver.find_element(\"id\",\"condition\")\n",
        "                drp_condition=Select(element_condition)\n",
        "                drp_condition.select_by_value(str(c))\n",
        "                time.sleep(2)\n",
        "                for s in [\"null\"]: #All-null, male - 1, female 2 |-> Just all?\n",
        "                    element_gender=driver.find_element(\"id\",\"sex_code\")\n",
        "                    drp_gender=Select(element_gender)\n",
        "                    drp_gender.select_by_value(str(s))\n",
        "                    time.sleep(2)\n",
        "                    for a in [1,2,3]: #All age groups\n",
        "                        element_age=driver.find_element(\"id\",\"age_group\")\n",
        "                        drp_age=Select(element_age)\n",
        "                        drp_age.select_by_value(str(a))\n",
        "                        time.sleep(2)\n",
        "                        for r in [\"null\"]: #All race groups\n",
        "                            element_race=driver.find_element(\"id\",\"race_code\")\n",
        "                            drp_race=Select(element_race)\n",
        "                            drp_race.select_by_value(str(r))\n",
        "                            time.sleep(2)\n",
        "                            for d in [\"null\",0,1]:\n",
        "                                element_dual=driver.find_element(\"id\",\"dual\") #Selecting dual eligible option\n",
        "                                drp_dual=Select(element_dual)    #options: null - Dual & non-dual; 0 - Medicare only; 1-Dual only\n",
        "                                drp_dual.select_by_value(str(d))\n",
        "                                time.sleep(8)\n",
        "                                element = driver.find_element(By.ID,\"data_download\")\n",
        "                                driver.execute_script(\"arguments[0].scrollIntoView();\", element)\n",
        "                                driver.execute_script(\"arguments[0].click();\", element)\n",
        "\n",
        "\n",
        "\n",
        "\n",
        "    time.sleep(10)\n",
        "    driver.close()"
      ]
    },
    {
      "cell_type": "code",
      "execution_count": null,
      "id": "93fa38c0",
      "metadata": {
        "id": "93fa38c0",
        "outputId": "8a145b8c-531e-4c99-9837-b455e2185f65"
      },
      "outputs": [
        {
          "ename": "NameError",
          "evalue": "name 'path' is not defined",
          "output_type": "error",
          "traceback": [
            "\u001b[1;31m---------------------------------------------------------------------------\u001b[0m",
            "\u001b[1;31mNameError\u001b[0m                                 Traceback (most recent call last)",
            "\u001b[1;32m~\\AppData\\Local\\Temp\\ipykernel_26336\\2083957624.py\u001b[0m in \u001b[0;36m<module>\u001b[1;34m\u001b[0m\n\u001b[0;32m     10\u001b[0m \u001b[1;31m#all_filenames = [i for i in glob.glob('*.{}'.format(extension))]\u001b[0m\u001b[1;33m\u001b[0m\u001b[1;33m\u001b[0m\u001b[0m\n\u001b[0;32m     11\u001b[0m \u001b[1;33m\u001b[0m\u001b[0m\n\u001b[1;32m---> 12\u001b[1;33m \u001b[0mall_filenames\u001b[0m \u001b[1;33m=\u001b[0m \u001b[0mglob\u001b[0m\u001b[1;33m.\u001b[0m\u001b[0mglob\u001b[0m\u001b[1;33m(\u001b[0m\u001b[0mos\u001b[0m\u001b[1;33m.\u001b[0m\u001b[0mpath\u001b[0m\u001b[1;33m.\u001b[0m\u001b[0mjoin\u001b[0m\u001b[1;33m(\u001b[0m\u001b[0mpath\u001b[0m\u001b[1;33m,\u001b[0m \u001b[1;34m\"*.csv\"\u001b[0m\u001b[1;33m)\u001b[0m\u001b[1;33m)\u001b[0m\u001b[1;33m\u001b[0m\u001b[1;33m\u001b[0m\u001b[0m\n\u001b[0m\u001b[0;32m     13\u001b[0m \u001b[1;33m\u001b[0m\u001b[0m\n\u001b[0;32m     14\u001b[0m \u001b[1;31m#combine all files in the list\u001b[0m\u001b[1;33m\u001b[0m\u001b[1;33m\u001b[0m\u001b[0m\n",
            "\u001b[1;31mNameError\u001b[0m: name 'path' is not defined"
          ]
        }
      ],
      "source": [
        "\n",
        "#to combine the data in a single set\n",
        "# download data in a folder and use this code to combine the files in the folder\n",
        "import os\n",
        "import glob\n",
        "import pandas as pd\n",
        "import numpy as np\n",
        "os.chdir(r'C:\\Users\\khazi\\OneDrive\\Desktop\\CMS') #mention the directory of folder where the files have been downloaded\n",
        "\n",
        "extension = 'csv'\n",
        "all_filenames = [i for i in glob.glob('*.{}'.format(extension))]\n",
        "\n",
        "#combine all files in the list\n",
        "combined_csv = pd.concat([pd.read_csv(f) for f in all_filenames ])\n",
        "#export to csv\n",
        "combined_csv.to_csv( \"combined_csv.csv\", index=False, encoding='utf-8-sig') # this has data of all the files that are downloaded by running a single cell above\n",
        "#data=pd.read_csv(\"combined_csv.csv\")\n",
        "#filter the data for Indiana\n",
        "#dataI=data[data.state==\"INDIANA\"]\n",
        "#dataset for Indiana\n",
        "#data.to_csv('indiana_combined2021.csv',index=False) # this has data of all the files where the state is Indiana\n",
        "\n"
      ]
    },
    {
      "cell_type": "code",
      "execution_count": null,
      "id": "131e660d",
      "metadata": {
        "id": "131e660d"
      },
      "outputs": [],
      "source": [
        "#to combine the data in a single set\n",
        "# download data in a folder and use this code to combine the files in the folder\n",
        "import os\n",
        "import glob\n",
        "import pandas as pd\n",
        "import numpy as np\n",
        "os.chdir(r'C:\\Users\\khazi\\OneDrive\\Desktop\\CMS') #mention the directory of folder where the files have been downloaded\n",
        "\n",
        "extension = 'csv'\n",
        "all_filenames = [i for i in glob.glob('*.{}'.format(extension))]\n",
        "\n",
        "#combine all files in the list\n",
        "combined_csv = pd.concat([pd.read_csv(f) for f in all_filenames ])\n",
        "#export to csv\n",
        "combined_csv.to_csv( \"combined_csv.csv\", index=False, encoding='utf-8-sig') # this has data of all the files that are downloaded by running a single cell above\n",
        "#data=pd.read_csv(\"combined_csv.csv\")\n",
        "#filter the data for Indiana\n",
        "#dataI=data[data.state==\"INDIANA\"]\n",
        "#dataset for Indiana\n",
        "#data.to_csv('indiana_combined2021.csv',index=False) # this has data of all the files where the state is Indiana\n",
        "\n"
      ]
    },
    {
      "cell_type": "code",
      "execution_count": null,
      "id": "c016c032",
      "metadata": {
        "id": "c016c032",
        "outputId": "96e79698-17bc-4c47-9cfc-32a059ad2382"
      },
      "outputs": [
        {
          "ename": "FileNotFoundError",
          "evalue": "[Errno 2] No such file or directory: 'combined1111_csv.csv'",
          "output_type": "error",
          "traceback": [
            "\u001b[1;31m---------------------------------------------------------------------------\u001b[0m",
            "\u001b[1;31mFileNotFoundError\u001b[0m                         Traceback (most recent call last)",
            "\u001b[1;32m~\\AppData\\Local\\Temp\\ipykernel_20812\\2037105108.py\u001b[0m in \u001b[0;36m<module>\u001b[1;34m\u001b[0m\n\u001b[0;32m     15\u001b[0m \u001b[1;33m\u001b[0m\u001b[0m\n\u001b[0;32m     16\u001b[0m \u001b[1;33m\u001b[0m\u001b[0m\n\u001b[1;32m---> 17\u001b[1;33m \u001b[0mabc\u001b[0m \u001b[1;33m=\u001b[0m \u001b[0mpd\u001b[0m\u001b[1;33m.\u001b[0m\u001b[0mread_csv\u001b[0m\u001b[1;33m(\u001b[0m\u001b[1;34m\"combined1111_csv.csv\"\u001b[0m\u001b[1;33m)\u001b[0m\u001b[1;33m\u001b[0m\u001b[1;33m\u001b[0m\u001b[0m\n\u001b[0m\u001b[0;32m     18\u001b[0m \u001b[1;31m#filter the data for Indiana\u001b[0m\u001b[1;33m\u001b[0m\u001b[1;33m\u001b[0m\u001b[0m\n\u001b[0;32m     19\u001b[0m \u001b[0mdataI\u001b[0m \u001b[1;33m=\u001b[0m \u001b[0mdata\u001b[0m\u001b[1;33m[\u001b[0m\u001b[0mabc\u001b[0m\u001b[1;33m.\u001b[0m\u001b[0mstate\u001b[0m\u001b[1;33m==\u001b[0m\u001b[1;34m\"INDIANA\"\u001b[0m\u001b[1;33m]\u001b[0m\u001b[1;33m\u001b[0m\u001b[1;33m\u001b[0m\u001b[0m\n",
            "\u001b[1;32m~\\anaconda3\\lib\\site-packages\\pandas\\util\\_decorators.py\u001b[0m in \u001b[0;36mwrapper\u001b[1;34m(*args, **kwargs)\u001b[0m\n\u001b[0;32m    309\u001b[0m                     \u001b[0mstacklevel\u001b[0m\u001b[1;33m=\u001b[0m\u001b[0mstacklevel\u001b[0m\u001b[1;33m,\u001b[0m\u001b[1;33m\u001b[0m\u001b[1;33m\u001b[0m\u001b[0m\n\u001b[0;32m    310\u001b[0m                 )\n\u001b[1;32m--> 311\u001b[1;33m             \u001b[1;32mreturn\u001b[0m \u001b[0mfunc\u001b[0m\u001b[1;33m(\u001b[0m\u001b[1;33m*\u001b[0m\u001b[0margs\u001b[0m\u001b[1;33m,\u001b[0m \u001b[1;33m**\u001b[0m\u001b[0mkwargs\u001b[0m\u001b[1;33m)\u001b[0m\u001b[1;33m\u001b[0m\u001b[1;33m\u001b[0m\u001b[0m\n\u001b[0m\u001b[0;32m    312\u001b[0m \u001b[1;33m\u001b[0m\u001b[0m\n\u001b[0;32m    313\u001b[0m         \u001b[1;32mreturn\u001b[0m \u001b[0mwrapper\u001b[0m\u001b[1;33m\u001b[0m\u001b[1;33m\u001b[0m\u001b[0m\n",
            "\u001b[1;32m~\\anaconda3\\lib\\site-packages\\pandas\\io\\parsers\\readers.py\u001b[0m in \u001b[0;36mread_csv\u001b[1;34m(filepath_or_buffer, sep, delimiter, header, names, index_col, usecols, squeeze, prefix, mangle_dupe_cols, dtype, engine, converters, true_values, false_values, skipinitialspace, skiprows, skipfooter, nrows, na_values, keep_default_na, na_filter, verbose, skip_blank_lines, parse_dates, infer_datetime_format, keep_date_col, date_parser, dayfirst, cache_dates, iterator, chunksize, compression, thousands, decimal, lineterminator, quotechar, quoting, doublequote, escapechar, comment, encoding, encoding_errors, dialect, error_bad_lines, warn_bad_lines, on_bad_lines, delim_whitespace, low_memory, memory_map, float_precision, storage_options)\u001b[0m\n\u001b[0;32m    676\u001b[0m     \u001b[0mkwds\u001b[0m\u001b[1;33m.\u001b[0m\u001b[0mupdate\u001b[0m\u001b[1;33m(\u001b[0m\u001b[0mkwds_defaults\u001b[0m\u001b[1;33m)\u001b[0m\u001b[1;33m\u001b[0m\u001b[1;33m\u001b[0m\u001b[0m\n\u001b[0;32m    677\u001b[0m \u001b[1;33m\u001b[0m\u001b[0m\n\u001b[1;32m--> 678\u001b[1;33m     \u001b[1;32mreturn\u001b[0m \u001b[0m_read\u001b[0m\u001b[1;33m(\u001b[0m\u001b[0mfilepath_or_buffer\u001b[0m\u001b[1;33m,\u001b[0m \u001b[0mkwds\u001b[0m\u001b[1;33m)\u001b[0m\u001b[1;33m\u001b[0m\u001b[1;33m\u001b[0m\u001b[0m\n\u001b[0m\u001b[0;32m    679\u001b[0m \u001b[1;33m\u001b[0m\u001b[0m\n\u001b[0;32m    680\u001b[0m \u001b[1;33m\u001b[0m\u001b[0m\n",
            "\u001b[1;32m~\\anaconda3\\lib\\site-packages\\pandas\\io\\parsers\\readers.py\u001b[0m in \u001b[0;36m_read\u001b[1;34m(filepath_or_buffer, kwds)\u001b[0m\n\u001b[0;32m    573\u001b[0m \u001b[1;33m\u001b[0m\u001b[0m\n\u001b[0;32m    574\u001b[0m     \u001b[1;31m# Create the parser.\u001b[0m\u001b[1;33m\u001b[0m\u001b[1;33m\u001b[0m\u001b[0m\n\u001b[1;32m--> 575\u001b[1;33m     \u001b[0mparser\u001b[0m \u001b[1;33m=\u001b[0m \u001b[0mTextFileReader\u001b[0m\u001b[1;33m(\u001b[0m\u001b[0mfilepath_or_buffer\u001b[0m\u001b[1;33m,\u001b[0m \u001b[1;33m**\u001b[0m\u001b[0mkwds\u001b[0m\u001b[1;33m)\u001b[0m\u001b[1;33m\u001b[0m\u001b[1;33m\u001b[0m\u001b[0m\n\u001b[0m\u001b[0;32m    576\u001b[0m \u001b[1;33m\u001b[0m\u001b[0m\n\u001b[0;32m    577\u001b[0m     \u001b[1;32mif\u001b[0m \u001b[0mchunksize\u001b[0m \u001b[1;32mor\u001b[0m \u001b[0miterator\u001b[0m\u001b[1;33m:\u001b[0m\u001b[1;33m\u001b[0m\u001b[1;33m\u001b[0m\u001b[0m\n",
            "\u001b[1;32m~\\anaconda3\\lib\\site-packages\\pandas\\io\\parsers\\readers.py\u001b[0m in \u001b[0;36m__init__\u001b[1;34m(self, f, engine, **kwds)\u001b[0m\n\u001b[0;32m    930\u001b[0m \u001b[1;33m\u001b[0m\u001b[0m\n\u001b[0;32m    931\u001b[0m         \u001b[0mself\u001b[0m\u001b[1;33m.\u001b[0m\u001b[0mhandles\u001b[0m\u001b[1;33m:\u001b[0m \u001b[0mIOHandles\u001b[0m \u001b[1;33m|\u001b[0m \u001b[1;32mNone\u001b[0m \u001b[1;33m=\u001b[0m \u001b[1;32mNone\u001b[0m\u001b[1;33m\u001b[0m\u001b[1;33m\u001b[0m\u001b[0m\n\u001b[1;32m--> 932\u001b[1;33m         \u001b[0mself\u001b[0m\u001b[1;33m.\u001b[0m\u001b[0m_engine\u001b[0m \u001b[1;33m=\u001b[0m \u001b[0mself\u001b[0m\u001b[1;33m.\u001b[0m\u001b[0m_make_engine\u001b[0m\u001b[1;33m(\u001b[0m\u001b[0mf\u001b[0m\u001b[1;33m,\u001b[0m \u001b[0mself\u001b[0m\u001b[1;33m.\u001b[0m\u001b[0mengine\u001b[0m\u001b[1;33m)\u001b[0m\u001b[1;33m\u001b[0m\u001b[1;33m\u001b[0m\u001b[0m\n\u001b[0m\u001b[0;32m    933\u001b[0m \u001b[1;33m\u001b[0m\u001b[0m\n\u001b[0;32m    934\u001b[0m     \u001b[1;32mdef\u001b[0m \u001b[0mclose\u001b[0m\u001b[1;33m(\u001b[0m\u001b[0mself\u001b[0m\u001b[1;33m)\u001b[0m\u001b[1;33m:\u001b[0m\u001b[1;33m\u001b[0m\u001b[1;33m\u001b[0m\u001b[0m\n",
            "\u001b[1;32m~\\anaconda3\\lib\\site-packages\\pandas\\io\\parsers\\readers.py\u001b[0m in \u001b[0;36m_make_engine\u001b[1;34m(self, f, engine)\u001b[0m\n\u001b[0;32m   1214\u001b[0m             \u001b[1;31m# \"Union[str, PathLike[str], ReadCsvBuffer[bytes], ReadCsvBuffer[str]]\"\u001b[0m\u001b[1;33m\u001b[0m\u001b[1;33m\u001b[0m\u001b[0m\n\u001b[0;32m   1215\u001b[0m             \u001b[1;31m# , \"str\", \"bool\", \"Any\", \"Any\", \"Any\", \"Any\", \"Any\"\u001b[0m\u001b[1;33m\u001b[0m\u001b[1;33m\u001b[0m\u001b[0m\n\u001b[1;32m-> 1216\u001b[1;33m             self.handles = get_handle(  # type: ignore[call-overload]\n\u001b[0m\u001b[0;32m   1217\u001b[0m                 \u001b[0mf\u001b[0m\u001b[1;33m,\u001b[0m\u001b[1;33m\u001b[0m\u001b[1;33m\u001b[0m\u001b[0m\n\u001b[0;32m   1218\u001b[0m                 \u001b[0mmode\u001b[0m\u001b[1;33m,\u001b[0m\u001b[1;33m\u001b[0m\u001b[1;33m\u001b[0m\u001b[0m\n",
            "\u001b[1;32m~\\anaconda3\\lib\\site-packages\\pandas\\io\\common.py\u001b[0m in \u001b[0;36mget_handle\u001b[1;34m(path_or_buf, mode, encoding, compression, memory_map, is_text, errors, storage_options)\u001b[0m\n\u001b[0;32m    784\u001b[0m         \u001b[1;32mif\u001b[0m \u001b[0mioargs\u001b[0m\u001b[1;33m.\u001b[0m\u001b[0mencoding\u001b[0m \u001b[1;32mand\u001b[0m \u001b[1;34m\"b\"\u001b[0m \u001b[1;32mnot\u001b[0m \u001b[1;32min\u001b[0m \u001b[0mioargs\u001b[0m\u001b[1;33m.\u001b[0m\u001b[0mmode\u001b[0m\u001b[1;33m:\u001b[0m\u001b[1;33m\u001b[0m\u001b[1;33m\u001b[0m\u001b[0m\n\u001b[0;32m    785\u001b[0m             \u001b[1;31m# Encoding\u001b[0m\u001b[1;33m\u001b[0m\u001b[1;33m\u001b[0m\u001b[0m\n\u001b[1;32m--> 786\u001b[1;33m             handle = open(\n\u001b[0m\u001b[0;32m    787\u001b[0m                 \u001b[0mhandle\u001b[0m\u001b[1;33m,\u001b[0m\u001b[1;33m\u001b[0m\u001b[1;33m\u001b[0m\u001b[0m\n\u001b[0;32m    788\u001b[0m                 \u001b[0mioargs\u001b[0m\u001b[1;33m.\u001b[0m\u001b[0mmode\u001b[0m\u001b[1;33m,\u001b[0m\u001b[1;33m\u001b[0m\u001b[1;33m\u001b[0m\u001b[0m\n",
            "\u001b[1;31mFileNotFoundError\u001b[0m: [Errno 2] No such file or directory: 'combined1111_csv.csv'"
          ]
        }
      ],
      "source": [
        "import os\n",
        "import pandas as pd\n",
        "\n",
        "# Directory containing all CSV files to be combined\n",
        "directory = r'C:\\Users\\khazi\\OneDrive\\Desktop\\CMS\\02-21-2023'\n",
        "\n",
        "# Get a list of all CSV files in the directory\n",
        "files = [file for file in os.listdir(directory) if file.endswith('.csv')]\n",
        "\n",
        "# Combine all CSV files into one dataframe\n",
        "combined_csv = pd.concat([pd.read_csv(os.path.join(directory, file)) for file in files])\n",
        "\n",
        "# Write the combined CSV file to disk\n",
        "combined_csv.to_csv(os.path.join(directory, 'combined1111_csv.csv'))\n",
        "\n",
        "\n"
      ]
    },
    {
      "cell_type": "code",
      "execution_count": null,
      "id": "85059113",
      "metadata": {
        "id": "85059113",
        "outputId": "bd5ee732-bd4d-4118-a81a-50977082b6df"
      },
      "outputs": [
        {
          "ename": "FileNotFoundError",
          "evalue": "[Errno 2] No such file or directory: 'combined111_csv.csv'",
          "output_type": "error",
          "traceback": [
            "\u001b[1;31m---------------------------------------------------------------------------\u001b[0m",
            "\u001b[1;31mFileNotFoundError\u001b[0m                         Traceback (most recent call last)",
            "\u001b[1;32m~\\AppData\\Local\\Temp\\ipykernel_20812\\3234143349.py\u001b[0m in \u001b[0;36m<module>\u001b[1;34m\u001b[0m\n\u001b[1;32m----> 1\u001b[1;33m \u001b[0mdata\u001b[0m\u001b[1;33m=\u001b[0m\u001b[0mpd\u001b[0m\u001b[1;33m.\u001b[0m\u001b[0mread_csv\u001b[0m\u001b[1;33m(\u001b[0m\u001b[1;34m\"combined111_csv.csv\"\u001b[0m\u001b[1;33m)\u001b[0m\u001b[1;33m\u001b[0m\u001b[1;33m\u001b[0m\u001b[0m\n\u001b[0m\u001b[0;32m      2\u001b[0m \u001b[1;31m#filter the data for Indiana\u001b[0m\u001b[1;33m\u001b[0m\u001b[1;33m\u001b[0m\u001b[0m\n\u001b[0;32m      3\u001b[0m \u001b[0mdataI\u001b[0m\u001b[1;33m=\u001b[0m\u001b[0mdata\u001b[0m\u001b[1;33m[\u001b[0m\u001b[0mdata\u001b[0m\u001b[1;33m.\u001b[0m\u001b[0mstate\u001b[0m\u001b[1;33m==\u001b[0m\u001b[1;34m\"INDIANA\"\u001b[0m\u001b[1;33m]\u001b[0m\u001b[1;33m\u001b[0m\u001b[1;33m\u001b[0m\u001b[0m\n\u001b[0;32m      4\u001b[0m \u001b[1;31m#dataset for Indiana\u001b[0m\u001b[1;33m\u001b[0m\u001b[1;33m\u001b[0m\u001b[0m\n\u001b[0;32m      5\u001b[0m \u001b[0mdataI\u001b[0m\u001b[1;33m.\u001b[0m\u001b[0mto_csv\u001b[0m\u001b[1;33m(\u001b[0m\u001b[1;34m'indiana_combined2021.csv'\u001b[0m\u001b[1;33m,\u001b[0m\u001b[0mindex\u001b[0m\u001b[1;33m=\u001b[0m\u001b[1;32mFalse\u001b[0m\u001b[1;33m)\u001b[0m \u001b[1;31m# this has data of all the files where the state is Indiana\u001b[0m\u001b[1;33m\u001b[0m\u001b[1;33m\u001b[0m\u001b[0m\n",
            "\u001b[1;32m~\\anaconda3\\lib\\site-packages\\pandas\\util\\_decorators.py\u001b[0m in \u001b[0;36mwrapper\u001b[1;34m(*args, **kwargs)\u001b[0m\n\u001b[0;32m    309\u001b[0m                     \u001b[0mstacklevel\u001b[0m\u001b[1;33m=\u001b[0m\u001b[0mstacklevel\u001b[0m\u001b[1;33m,\u001b[0m\u001b[1;33m\u001b[0m\u001b[1;33m\u001b[0m\u001b[0m\n\u001b[0;32m    310\u001b[0m                 )\n\u001b[1;32m--> 311\u001b[1;33m             \u001b[1;32mreturn\u001b[0m \u001b[0mfunc\u001b[0m\u001b[1;33m(\u001b[0m\u001b[1;33m*\u001b[0m\u001b[0margs\u001b[0m\u001b[1;33m,\u001b[0m \u001b[1;33m**\u001b[0m\u001b[0mkwargs\u001b[0m\u001b[1;33m)\u001b[0m\u001b[1;33m\u001b[0m\u001b[1;33m\u001b[0m\u001b[0m\n\u001b[0m\u001b[0;32m    312\u001b[0m \u001b[1;33m\u001b[0m\u001b[0m\n\u001b[0;32m    313\u001b[0m         \u001b[1;32mreturn\u001b[0m \u001b[0mwrapper\u001b[0m\u001b[1;33m\u001b[0m\u001b[1;33m\u001b[0m\u001b[0m\n",
            "\u001b[1;32m~\\anaconda3\\lib\\site-packages\\pandas\\io\\parsers\\readers.py\u001b[0m in \u001b[0;36mread_csv\u001b[1;34m(filepath_or_buffer, sep, delimiter, header, names, index_col, usecols, squeeze, prefix, mangle_dupe_cols, dtype, engine, converters, true_values, false_values, skipinitialspace, skiprows, skipfooter, nrows, na_values, keep_default_na, na_filter, verbose, skip_blank_lines, parse_dates, infer_datetime_format, keep_date_col, date_parser, dayfirst, cache_dates, iterator, chunksize, compression, thousands, decimal, lineterminator, quotechar, quoting, doublequote, escapechar, comment, encoding, encoding_errors, dialect, error_bad_lines, warn_bad_lines, on_bad_lines, delim_whitespace, low_memory, memory_map, float_precision, storage_options)\u001b[0m\n\u001b[0;32m    676\u001b[0m     \u001b[0mkwds\u001b[0m\u001b[1;33m.\u001b[0m\u001b[0mupdate\u001b[0m\u001b[1;33m(\u001b[0m\u001b[0mkwds_defaults\u001b[0m\u001b[1;33m)\u001b[0m\u001b[1;33m\u001b[0m\u001b[1;33m\u001b[0m\u001b[0m\n\u001b[0;32m    677\u001b[0m \u001b[1;33m\u001b[0m\u001b[0m\n\u001b[1;32m--> 678\u001b[1;33m     \u001b[1;32mreturn\u001b[0m \u001b[0m_read\u001b[0m\u001b[1;33m(\u001b[0m\u001b[0mfilepath_or_buffer\u001b[0m\u001b[1;33m,\u001b[0m \u001b[0mkwds\u001b[0m\u001b[1;33m)\u001b[0m\u001b[1;33m\u001b[0m\u001b[1;33m\u001b[0m\u001b[0m\n\u001b[0m\u001b[0;32m    679\u001b[0m \u001b[1;33m\u001b[0m\u001b[0m\n\u001b[0;32m    680\u001b[0m \u001b[1;33m\u001b[0m\u001b[0m\n",
            "\u001b[1;32m~\\anaconda3\\lib\\site-packages\\pandas\\io\\parsers\\readers.py\u001b[0m in \u001b[0;36m_read\u001b[1;34m(filepath_or_buffer, kwds)\u001b[0m\n\u001b[0;32m    573\u001b[0m \u001b[1;33m\u001b[0m\u001b[0m\n\u001b[0;32m    574\u001b[0m     \u001b[1;31m# Create the parser.\u001b[0m\u001b[1;33m\u001b[0m\u001b[1;33m\u001b[0m\u001b[0m\n\u001b[1;32m--> 575\u001b[1;33m     \u001b[0mparser\u001b[0m \u001b[1;33m=\u001b[0m \u001b[0mTextFileReader\u001b[0m\u001b[1;33m(\u001b[0m\u001b[0mfilepath_or_buffer\u001b[0m\u001b[1;33m,\u001b[0m \u001b[1;33m**\u001b[0m\u001b[0mkwds\u001b[0m\u001b[1;33m)\u001b[0m\u001b[1;33m\u001b[0m\u001b[1;33m\u001b[0m\u001b[0m\n\u001b[0m\u001b[0;32m    576\u001b[0m \u001b[1;33m\u001b[0m\u001b[0m\n\u001b[0;32m    577\u001b[0m     \u001b[1;32mif\u001b[0m \u001b[0mchunksize\u001b[0m \u001b[1;32mor\u001b[0m \u001b[0miterator\u001b[0m\u001b[1;33m:\u001b[0m\u001b[1;33m\u001b[0m\u001b[1;33m\u001b[0m\u001b[0m\n",
            "\u001b[1;32m~\\anaconda3\\lib\\site-packages\\pandas\\io\\parsers\\readers.py\u001b[0m in \u001b[0;36m__init__\u001b[1;34m(self, f, engine, **kwds)\u001b[0m\n\u001b[0;32m    930\u001b[0m \u001b[1;33m\u001b[0m\u001b[0m\n\u001b[0;32m    931\u001b[0m         \u001b[0mself\u001b[0m\u001b[1;33m.\u001b[0m\u001b[0mhandles\u001b[0m\u001b[1;33m:\u001b[0m \u001b[0mIOHandles\u001b[0m \u001b[1;33m|\u001b[0m \u001b[1;32mNone\u001b[0m \u001b[1;33m=\u001b[0m \u001b[1;32mNone\u001b[0m\u001b[1;33m\u001b[0m\u001b[1;33m\u001b[0m\u001b[0m\n\u001b[1;32m--> 932\u001b[1;33m         \u001b[0mself\u001b[0m\u001b[1;33m.\u001b[0m\u001b[0m_engine\u001b[0m \u001b[1;33m=\u001b[0m \u001b[0mself\u001b[0m\u001b[1;33m.\u001b[0m\u001b[0m_make_engine\u001b[0m\u001b[1;33m(\u001b[0m\u001b[0mf\u001b[0m\u001b[1;33m,\u001b[0m \u001b[0mself\u001b[0m\u001b[1;33m.\u001b[0m\u001b[0mengine\u001b[0m\u001b[1;33m)\u001b[0m\u001b[1;33m\u001b[0m\u001b[1;33m\u001b[0m\u001b[0m\n\u001b[0m\u001b[0;32m    933\u001b[0m \u001b[1;33m\u001b[0m\u001b[0m\n\u001b[0;32m    934\u001b[0m     \u001b[1;32mdef\u001b[0m \u001b[0mclose\u001b[0m\u001b[1;33m(\u001b[0m\u001b[0mself\u001b[0m\u001b[1;33m)\u001b[0m\u001b[1;33m:\u001b[0m\u001b[1;33m\u001b[0m\u001b[1;33m\u001b[0m\u001b[0m\n",
            "\u001b[1;32m~\\anaconda3\\lib\\site-packages\\pandas\\io\\parsers\\readers.py\u001b[0m in \u001b[0;36m_make_engine\u001b[1;34m(self, f, engine)\u001b[0m\n\u001b[0;32m   1214\u001b[0m             \u001b[1;31m# \"Union[str, PathLike[str], ReadCsvBuffer[bytes], ReadCsvBuffer[str]]\"\u001b[0m\u001b[1;33m\u001b[0m\u001b[1;33m\u001b[0m\u001b[0m\n\u001b[0;32m   1215\u001b[0m             \u001b[1;31m# , \"str\", \"bool\", \"Any\", \"Any\", \"Any\", \"Any\", \"Any\"\u001b[0m\u001b[1;33m\u001b[0m\u001b[1;33m\u001b[0m\u001b[0m\n\u001b[1;32m-> 1216\u001b[1;33m             self.handles = get_handle(  # type: ignore[call-overload]\n\u001b[0m\u001b[0;32m   1217\u001b[0m                 \u001b[0mf\u001b[0m\u001b[1;33m,\u001b[0m\u001b[1;33m\u001b[0m\u001b[1;33m\u001b[0m\u001b[0m\n\u001b[0;32m   1218\u001b[0m                 \u001b[0mmode\u001b[0m\u001b[1;33m,\u001b[0m\u001b[1;33m\u001b[0m\u001b[1;33m\u001b[0m\u001b[0m\n",
            "\u001b[1;32m~\\anaconda3\\lib\\site-packages\\pandas\\io\\common.py\u001b[0m in \u001b[0;36mget_handle\u001b[1;34m(path_or_buf, mode, encoding, compression, memory_map, is_text, errors, storage_options)\u001b[0m\n\u001b[0;32m    784\u001b[0m         \u001b[1;32mif\u001b[0m \u001b[0mioargs\u001b[0m\u001b[1;33m.\u001b[0m\u001b[0mencoding\u001b[0m \u001b[1;32mand\u001b[0m \u001b[1;34m\"b\"\u001b[0m \u001b[1;32mnot\u001b[0m \u001b[1;32min\u001b[0m \u001b[0mioargs\u001b[0m\u001b[1;33m.\u001b[0m\u001b[0mmode\u001b[0m\u001b[1;33m:\u001b[0m\u001b[1;33m\u001b[0m\u001b[1;33m\u001b[0m\u001b[0m\n\u001b[0;32m    785\u001b[0m             \u001b[1;31m# Encoding\u001b[0m\u001b[1;33m\u001b[0m\u001b[1;33m\u001b[0m\u001b[0m\n\u001b[1;32m--> 786\u001b[1;33m             handle = open(\n\u001b[0m\u001b[0;32m    787\u001b[0m                 \u001b[0mhandle\u001b[0m\u001b[1;33m,\u001b[0m\u001b[1;33m\u001b[0m\u001b[1;33m\u001b[0m\u001b[0m\n\u001b[0;32m    788\u001b[0m                 \u001b[0mioargs\u001b[0m\u001b[1;33m.\u001b[0m\u001b[0mmode\u001b[0m\u001b[1;33m,\u001b[0m\u001b[1;33m\u001b[0m\u001b[1;33m\u001b[0m\u001b[0m\n",
            "\u001b[1;31mFileNotFoundError\u001b[0m: [Errno 2] No such file or directory: 'combined111_csv.csv'"
          ]
        }
      ],
      "source": [
        "data=pd.read_csv(\"combined1111_csv.csv\")\n",
        "#filter the data for Indiana\n",
        "dataI=data[data.state==\"INDIANA\"]\n",
        "#dataset for Indiana\n",
        "dataI.to_csv('indiana_combined2021.csv',index=False) # this has data of all the files where the state is Indiana\n",
        "\n"
      ]
    },
    {
      "cell_type": "code",
      "execution_count": null,
      "id": "53f7f2ff",
      "metadata": {
        "id": "53f7f2ff",
        "outputId": "426348fd-3685-484d-b09d-6842980b92d6"
      },
      "outputs": [
        {
          "ename": "SyntaxError",
          "evalue": "unexpected EOF while parsing (95766313.py, line 14)",
          "output_type": "error",
          "traceback": [
            "\u001b[1;36m  File \u001b[1;32m\"C:\\Users\\khazi\\AppData\\Local\\Temp\\ipykernel_23400\\95766313.py\"\u001b[1;36m, line \u001b[1;32m14\u001b[0m\n\u001b[1;33m    combined_df.to_csv(os.path.join(directory,'combined.csv')\u001b[0m\n\u001b[1;37m                                                             ^\u001b[0m\n\u001b[1;31mSyntaxError\u001b[0m\u001b[1;31m:\u001b[0m unexpected EOF while parsing\n"
          ]
        }
      ],
      "source": [
        "import pandas as pd\n",
        "import os\n",
        "\n",
        "folder_path = r'C:\\Users\\khazi\\OneDrive\\Desktop\\CMS\\02-17-2023'\n",
        "df_list = []\n",
        "\n",
        "for filename in os.listdir(folder_path):\n",
        "    if filename.endswith('.csv'):\n",
        "        file_path = os.path.join(folder_path, filename)\n",
        "        df = pd.read_csv(file_path)\n",
        "        df_list.append(df)\n",
        "\n",
        "combined_df = pd.concat(df_list, axis=0, ignore_index=True)\n",
        "combined_df.to_csv('combined.csv')"
      ]
    },
    {
      "cell_type": "code",
      "execution_count": null,
      "id": "622f00cc",
      "metadata": {
        "id": "622f00cc"
      },
      "outputs": [],
      "source": []
    },
    {
      "cell_type": "code",
      "execution_count": null,
      "id": "2405a79d",
      "metadata": {
        "id": "2405a79d"
      },
      "outputs": [],
      "source": []
    },
    {
      "cell_type": "code",
      "execution_count": null,
      "id": "71d95d7e",
      "metadata": {
        "id": "71d95d7e",
        "outputId": "a8a9d685-290d-457c-bc0a-fb5eec72894b"
      },
      "outputs": [
        {
          "ename": "PermissionError",
          "evalue": "[Errno 13] Permission denied",
          "output_type": "error",
          "traceback": [
            "\u001b[1;31m---------------------------------------------------------------------------\u001b[0m",
            "\u001b[1;31mPermissionError\u001b[0m                           Traceback (most recent call last)",
            "\u001b[1;32m~\\AppData\\Local\\Temp\\ipykernel_23400\\232323293.py\u001b[0m in \u001b[0;36m<module>\u001b[1;34m\u001b[0m\n\u001b[0;32m     12\u001b[0m             \u001b[1;32mwith\u001b[0m \u001b[0mopen\u001b[0m\u001b[1;33m(\u001b[0m\u001b[0mfile_path\u001b[0m\u001b[1;33m,\u001b[0m \u001b[1;34m'r'\u001b[0m\u001b[1;33m)\u001b[0m \u001b[1;32mas\u001b[0m \u001b[0minfile\u001b[0m\u001b[1;33m:\u001b[0m\u001b[1;33m\u001b[0m\u001b[1;33m\u001b[0m\u001b[0m\n\u001b[0;32m     13\u001b[0m                 \u001b[0mreader\u001b[0m \u001b[1;33m=\u001b[0m \u001b[0mcsv\u001b[0m\u001b[1;33m.\u001b[0m\u001b[0mreader\u001b[0m\u001b[1;33m(\u001b[0m\u001b[0minfile\u001b[0m\u001b[1;33m)\u001b[0m\u001b[1;33m\u001b[0m\u001b[1;33m\u001b[0m\u001b[0m\n\u001b[1;32m---> 14\u001b[1;33m                 \u001b[1;32mfor\u001b[0m \u001b[0mrow\u001b[0m \u001b[1;32min\u001b[0m \u001b[0mreader\u001b[0m\u001b[1;33m:\u001b[0m\u001b[1;33m\u001b[0m\u001b[1;33m\u001b[0m\u001b[0m\n\u001b[0m\u001b[0;32m     15\u001b[0m                     \u001b[0mwriter\u001b[0m\u001b[1;33m.\u001b[0m\u001b[0mwriterow\u001b[0m\u001b[1;33m(\u001b[0m\u001b[0mrow\u001b[0m\u001b[1;33m)\u001b[0m\u001b[1;33m\u001b[0m\u001b[1;33m\u001b[0m\u001b[0m\n",
            "\u001b[1;31mPermissionError\u001b[0m: [Errno 13] Permission denied"
          ]
        }
      ],
      "source": [
        "import csv\n",
        "import os\n",
        "\n",
        "folder_path = r'C:\\Users\\khazi\\OneDrive\\Desktop\\CMS\\02-17-2023'\n",
        "output_file = 'combined_import_csv.csv'\n",
        "\n",
        "with open(output_file, 'w', newline='') as outfile:\n",
        "    writer = csv.writer(outfile)\n",
        "    for filename in os.listdir(folder_path):\n",
        "        if filename.endswith('.csv'):\n",
        "            file_path = os.path.join(folder_path, filename)\n",
        "            with open(file_path, 'r') as infile:\n",
        "                reader = csv.reader(infile)\n",
        "                for row in reader:\n",
        "                    writer.writerow(row)"
      ]
    },
    {
      "cell_type": "code",
      "execution_count": null,
      "id": "edfc7c80",
      "metadata": {
        "id": "edfc7c80"
      },
      "outputs": [],
      "source": []
    }
  ],
  "metadata": {
    "colab": {
      "provenance": []
    },
    "kernelspec": {
      "display_name": "Python 3 (ipykernel)",
      "language": "python",
      "name": "python3"
    },
    "language_info": {
      "codemirror_mode": {
        "name": "ipython",
        "version": 3
      },
      "file_extension": ".py",
      "mimetype": "text/x-python",
      "name": "python",
      "nbconvert_exporter": "python",
      "pygments_lexer": "ipython3",
      "version": "3.10.9"
    }
  },
  "nbformat": 4,
  "nbformat_minor": 5
}